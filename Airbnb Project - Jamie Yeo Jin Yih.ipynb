{
 "cells": [
  {
   "cell_type": "markdown",
   "metadata": {},
   "source": [
    "<hr>\n",
    "\n",
    "</hr>\n",
    "<br>\n",
    "</br>\n",
    "\n",
    "<img src=\"http://www.stickpng.com/assets/images/580b57fcd9996e24bc43c513.png\" width=\"400\">\n",
    "<br>\n",
    "</br>\n",
    "<br>\n",
    "</br>\n",
    "\n",
    "Airbnb is an online marketplace and hospitality service, enabling people to lease or rent short-term lodging including vacation rentals, apartment rentals, homestays, hostel beds, or hotel rooms. The company does not own any lodging; it is merely a broker and receives percentage service fees (commissions) from both guests and hosts in conjunction with every booking. \n",
    "\n",
    "The aim of my  project is to use algorithms and libraries to mine the reviews people have submitted on Singapore AirBnB rentals in order to provide descriptive analytics.\n",
    "\n",
    "\n",
    "## Load File\n",
    "To start off, I imported and loaded the `airbnb_data.csv` as <b>a list of dictionaries</b>. "
   ]
  },
  {
   "cell_type": "code",
   "execution_count": 2,
   "metadata": {},
   "outputs": [
    {
     "data": {
      "text/plain": [
       "{'listing_id': '1133718',\n",
       " 'survey_id': '1280',\n",
       " 'host_id': '6219420',\n",
       " 'room_type': 'Shared room',\n",
       " 'country': '',\n",
       " 'city': 'Singapore',\n",
       " 'borough': '',\n",
       " 'neighborhood': 'MK03',\n",
       " 'reviews': '9',\n",
       " 'overall_satisfaction': '4.5',\n",
       " 'accommodates': '12',\n",
       " 'bedrooms': '1.0',\n",
       " 'bathrooms': '',\n",
       " 'price': '74.0',\n",
       " 'minstay': '',\n",
       " 'last_modified': '2017-05-17 09:10:25.431659',\n",
       " 'latitude': '1.293354',\n",
       " 'longitude': '103.769226',\n",
       " 'location': '0101000020E6100000E84EB0FF3AF159409C69C2F693B1F43F'}"
      ]
     },
     "execution_count": 2,
     "metadata": {},
     "output_type": "execute_result"
    }
   ],
   "source": [
    "import csv\n",
    "airbnb_data = []\n",
    "with open('airbnb_data.csv') as f:\n",
    "    reader = csv.DictReader(f,delimiter=',')\n",
    "    for row in reader:\n",
    "        airbnb_data.append(dict(row))\n",
    "\n",
    "#read the first key-value pair of airbnb_data dictionary\n",
    "airbnb_data[0]    "
   ]
  },
  {
   "cell_type": "markdown",
   "metadata": {},
   "source": [
    "### Data Cleaning\n",
    "As previewed above, all key-value pairs were in type: `string`. \n",
    "\n",
    "However, there are certain columns with data that I want to be in type: `float` instead to work better with for data analysis. \n",
    "\n",
    "I will clean the following columns to their appropriate types:\n",
    "1. `overall_satisfaction`\n",
    "2. `price`\n",
    "3. `longtitude`\n",
    "4. `latitude`\n",
    "5. `reviews`"
   ]
  },
  {
   "cell_type": "code",
   "execution_count": 4,
   "metadata": {},
   "outputs": [
    {
     "data": {
      "text/plain": [
       "{'listing_id': '1133718',\n",
       " 'survey_id': '1280',\n",
       " 'host_id': '6219420',\n",
       " 'room_type': 'Shared room',\n",
       " 'country': '',\n",
       " 'city': 'Singapore',\n",
       " 'borough': '',\n",
       " 'neighborhood': 'MK03',\n",
       " 'reviews': 9.0,\n",
       " 'overall_satisfaction': 4.5,\n",
       " 'accommodates': '12',\n",
       " 'bedrooms': '1.0',\n",
       " 'bathrooms': '',\n",
       " 'price': 74.0,\n",
       " 'minstay': '',\n",
       " 'last_modified': '2017-05-17 09:10:25.431659',\n",
       " 'latitude': 1.293354,\n",
       " 'longitude': 103.769226,\n",
       " 'location': '0101000020E6100000E84EB0FF3AF159409C69C2F693B1F43F'}"
      ]
     },
     "execution_count": 4,
     "metadata": {},
     "output_type": "execute_result"
    }
   ],
   "source": [
    "for row in airbnb_data:\n",
    "    row['overall_satisfaction'] = float(row['overall_satisfaction'])\n",
    "    row['price'] = float(row['price'])\n",
    "    row['reviews'] = float(row['reviews'])\n",
    "    row['latitude'] = float(row['latitude'])\n",
    "    row['longitude'] = float(row['longitude'])\n",
    "\n",
    "airbnb_data[0]"
   ]
  },
  {
   "cell_type": "markdown",
   "metadata": {},
   "source": [
    "## Descriptive Analytics Report Generation"
   ]
  },
  {
   "cell_type": "markdown",
   "metadata": {},
   "source": [
    "### To find which hosts in Singapore have more than 30 listings, and how many such hosts are there\n",
    "\n",
    "<i> The following are the steps I took:\n",
    "1. I created a dictionary : `host_with_30`, to hold all unique hosts (key) and their total no. of listings (value).\n",
    "2. I looped through airbnb_data and did a counter with `host_with_30` in order to sum the total no. of listings each host has.\n",
    "3. To sieve out hosts in Singapore that have more than 30 listings, I simply looped through `host_with_30` to pick out host_id with >30 listings into `hosts`\n",
    "4. I also used a counter `counts` within the same loop to count the no. of hosts with more than 30 listings\n",
    "</i>"
   ]
  },
  {
   "cell_type": "code",
   "execution_count": 28,
   "metadata": {},
   "outputs": [
    {
     "name": "stdout",
     "output_type": "stream",
     "text": [
      "The following hosts have more than 30 listings in Singapore: 76123088, 882659, 35691521, 31464513, 103759551, 8492007, 1439258, 32184450, 16940959, 20485973, 70290706, 51535991, 70265611, 229339, 101312755, 29420853, 31557326, 38987109, 51549370, 23722617, 10248444, 110565713, 4412979, 83423140, 99329030, 7210103, 14521708, 94765000.\n",
      "\n",
      "\n",
      "There are 28 hosts that have more than 30 listings in Singapore\n"
     ]
    }
   ],
   "source": [
    "host_with_30 = {}\n",
    "\n",
    "for row in airbnb_data:\n",
    "    host_id = row['host_id']\n",
    "    \n",
    "    if host_id not in host_with_30:\n",
    "        host_with_30[host_id] = 1\n",
    "    else:\n",
    "        host_with_30[host_id] += 1\n",
    "\n",
    "hosts = str()\n",
    "counts = 0\n",
    "\n",
    "for k,v in host_with_30.items():\n",
    "    if v > 30:\n",
    "        hosts += k + ', '\n",
    "        counts+= 1\n",
    "\n",
    "print(\"The following hosts have more than 30 listings in Singapore: \" + hosts[:-2] + '.')\n",
    "print(\"\\n\")\n",
    "print(\"There are \" + str(counts) + \" hosts that have more than 30 listings in Singapore\")"
   ]
  },
  {
   "cell_type": "markdown",
   "metadata": {},
   "source": [
    "### To find the average price of the rooms in a certain neighbourhood e.g. ```MK03```\n",
    "\n",
    "<i> The following are the steps I took:\n",
    "1. Loop through airbnb_data to sieve out and sum up the prices of MK03 into the variable `total_price`\n",
    "2. I added a counter `num_of_rooms` to count the number of rooms in MK03\n",
    "3. Average = total price/no. of rooms\n",
    "</i>\n"
   ]
  },
  {
   "cell_type": "code",
   "execution_count": 29,
   "metadata": {},
   "outputs": [
    {
     "name": "stdout",
     "output_type": "stream",
     "text": [
      "The average price of the rooms in MK03 is $76.92\n"
     ]
    }
   ],
   "source": [
    "total_price = 0\n",
    "num_of_rooms = 0\n",
    "\n",
    "for rec in airbnb_data:\n",
    "    if rec['neighborhood'] == 'MK03':\n",
    "        total_price += rec['price']\n",
    "        num_of_rooms += 1\n",
    "result = round((total_price / num_of_rooms),2)\n",
    "print(\"The average price of the rooms in MK03 is $\" + str(result))"
   ]
  },
  {
   "cell_type": "markdown",
   "metadata": {},
   "source": [
    "### To find the *top 10 priciest rooms in Singapore*\n",
    "\n",
    "I will create a list `room_id_price` with inner lists showing each `room_id` with its corresponding `price`.\n",
    "\n",
    "<i> The following are the steps I took:\n",
    "1. I created a list that will store many room_id - price pairs\n",
    "2. I sorted from the largest to the smallest price by reversing the `room_id_price` list and accessing the second element `price` of each inner list\n",
    "</i>"
   ]
  },
  {
   "cell_type": "code",
   "execution_count": 5,
   "metadata": {
    "scrolled": true
   },
   "outputs": [
    {
     "name": "stdout",
     "output_type": "stream",
     "text": [
      "[['16395877', 8023.0], ['9815599', 3309.0], ['13117403', 3029.0], ['17794853', 2206.0], ['14620083', 2164.0], ['16327246', 2059.0], ['5775503', 1103.0], ['12372683', 1029.0], ['15861144', 1027.0], ['9020629', 981.0]]\n"
     ]
    }
   ],
   "source": [
    "room_id_price = []\n",
    "\n",
    "for row in airbnb_data:\n",
    "    room_id = row['room_id']\n",
    "    price = row['price']\n",
    "    \n",
    "    room_id_price.append([room_id,price])\n",
    "\n",
    "room_id_price.sort(reverse=True, key=lambda x:x[1])\n",
    "print(room_id_price[:10])"
   ]
  },
  {
   "cell_type": "markdown",
   "metadata": {},
   "source": [
    "### To find the top 10 most expensive neighborhoods with at least 10 listings, based on their average price\n",
    "I will create a list `neighborhoods` with inner lists showing each `neighborhood_id` with its corresponding `price`.\n",
    "\n",
    "<i> The following are the steps I took:\n",
    "1. I looped through the `airbnb_data` data to append to a list the different prices of rooms in each neighbourhood into a dictionary `host_with_30`\n",
    "2. I then looped through `host_with_30` to sieve out neighbourhoods with at least 10 listings, and calculated their average price.\n",
    "3. I appended a list with [neighbourhood, average price] into the list `neighbourhood_price`\n",
    "4. Finally, I sorted from the largest to the smallest price by reversing the neighbourhood_price list and accessing the second element: the average price in each inner list\n",
    "</i>"
   ]
  },
  {
   "cell_type": "code",
   "execution_count": 55,
   "metadata": {},
   "outputs": [
    {
     "data": {
      "text/plain": [
       "[['MK34', 1428.6666666666667],\n",
       " ['TS01', 279.1818181818182],\n",
       " ['TS30', 213.51351351351352],\n",
       " ['TS27', 191.94495412844037],\n",
       " ['TS02', 153.48648648648648],\n",
       " ['TS29', 149.7111111111111],\n",
       " ['TS25', 148.73529411764707],\n",
       " ['MK17', 145.51006711409397],\n",
       " ['TS03', 140.09558823529412],\n",
       " ['TS05', 138.42]]"
      ]
     },
     "execution_count": 55,
     "metadata": {},
     "output_type": "execute_result"
    }
   ],
   "source": [
    "neighborhoods = {}\n",
    "\n",
    "for row in airbnb_data:\n",
    "    neighborhood = row['neighborhood']\n",
    "    price = row['price']\n",
    "    \n",
    "    if neighborhood not in neighborhoods:\n",
    "        neighborhoods[neighborhood] = [price]\n",
    "    else:\n",
    "        neighborhoods[neighborhood].append(price)\n",
    "\n",
    "neighbourhood_price = []\n",
    "\n",
    "for k,v in neighborhoods.items():\n",
    "    if len(v) > 10:\n",
    "        neighbourhood_price.append([k, sum(v)/len(v)])\n",
    "        \n",
    "neighbourhood_price.sort(reverse=True, key=lambda x:x[1])\n",
    "neighbourhood_price[:10]"
   ]
  },
  {
   "cell_type": "markdown",
   "metadata": {},
   "source": [
    "### To find the top 10 host_id has the highest average satisfaction level where each listing has at least had 1 review, for hosts that host more than 10 listings \n",
    "I will create a list `host_satisfaction` with inner lists showing each `host_id` with its corresponding `satisfaction`.\n",
    "\n",
    "<i> The following are the steps I took:\n",
    "1. I looped through the airbnb_data data to append to a list the different satisfaction received by different `host_id` into a dictionary host_with_30\n",
    "2. I then looped through host_with_30 to sieve out neighbourhoods with more than 10 listings, and calculated their average satisfaction.\n",
    "3. I appended a list with [neighbourhood, average price] into the list `host_id_satisfaction`\n",
    "4. Finally, I sorted from the largest to the smallest satisfaction rating by reversing the `host_id_satisfaction` list and accessing the second element: the average satisfaction in each inner list\n",
    "</i>"
   ]
  },
  {
   "cell_type": "code",
   "execution_count": 56,
   "metadata": {},
   "outputs": [
    {
     "data": {
      "text/plain": [
       "[['4705949', 4.8],\n",
       " ['882659', 4.75],\n",
       " ['20828188', 4.730769230769231],\n",
       " ['6609641', 4.5],\n",
       " ['20874965', 4.433333333333334],\n",
       " ['17526618', 4.375],\n",
       " ['19689637', 4.346153846153846],\n",
       " ['14521708', 4.315384615384615],\n",
       " ['3544325', 4.266666666666667],\n",
       " ['23722617', 4.205882352941177]]"
      ]
     },
     "execution_count": 56,
     "metadata": {},
     "output_type": "execute_result"
    }
   ],
   "source": [
    "host_satisfaction = {}\n",
    "\n",
    "for row in airbnb_data:\n",
    "    host_id = row['host_id']\n",
    "    satisfaction = row['overall_satisfaction']\n",
    "    reviews = row['reviews']\n",
    "    if reviews >= 1:\n",
    "        if host_id not in host_satisfaction:\n",
    "            host_satisfaction[host_id] = [satisfaction]\n",
    "        else:\n",
    "            host_satisfaction[host_id].append(satisfaction)\n",
    "\n",
    "host_id_satisfaction = []\n",
    "\n",
    "for k,v in host_satisfaction.items():\n",
    "    if len(v) > 10:\n",
    "        host_id_satisfaction.append([k, sum(v)/len(v)])\n",
    "        \n",
    "host_id_satisfaction.sort(reverse=True, key=lambda x:x[1])\n",
    "host_id_satisfaction[:10]"
   ]
  },
  {
   "cell_type": "markdown",
   "metadata": {},
   "source": [
    "## Visualisation"
   ]
  },
  {
   "cell_type": "markdown",
   "metadata": {},
   "source": [
    "### Plot a geographical representation of all the rooms in the top 10 most expensive neighborhoods based on their average price, with at least 10 listings\n",
    "<i> The following are the steps I took:\n",
    "1. Loop through `neighbourhood_price` to get all the `neighborhood_id` in a list `all_neighborhoods`\n",
    "2. Loop through `airbnb_data` to create the x and y axis, `lat` and `lon` respectively, of each neighborhood found in `all_neighborhoods`\n",
    "3. Append lat and lon into `all_lat` and `all_lon` accordingly\n",
    "4. Plot as a scatterplot\n",
    "</i>"
   ]
  },
  {
   "cell_type": "code",
   "execution_count": 57,
   "metadata": {},
   "outputs": [
    {
     "data": {
      "text/plain": [
       "<matplotlib.collections.PathCollection at 0x115e490b8>"
      ]
     },
     "execution_count": 57,
     "metadata": {},
     "output_type": "execute_result"
    },
    {
     "data": {
      "image/png": "[encoded data removed]",
      "text/plain": [
       "<Figure size 432x288 with 1 Axes>"
      ]
     },
     "metadata": {},
     "output_type": "display_data"
    }
   ],
   "source": [
    "import matplotlib.pyplot as plt\n",
    "%matplotlib inline\n",
    "all_neighborhoods = [x[0] for x in neighbourhood_price[:10]]\n",
    "\n",
    "all_lat = []\n",
    "all_lon = []\n",
    "\n",
    "for data in airbnb_data:\n",
    "    neighborhood = data['neighborhood']\n",
    "    lat = data['latitude']\n",
    "    lon = data['longitude']\n",
    "    \n",
    "    if neighborhood in all_neighborhoods:\n",
    "        all_lat.append(lat)\n",
    "        all_lon.append(lon)\n",
    "        \n",
    "plt.xlabel(\"Latitude\")\n",
    "plt.ylabel(\"Longitude\")\n",
    "plt.title(\"Top 10 most expensive neighborhoods with at least 10 listings\")\n",
    "plt.scatter(all_lon,all_lat)"
   ]
  },
  {
   "cell_type": "markdown",
   "metadata": {},
   "source": [
    "### Plot a geographical representation of all the rooms of the top 10 host_id that have the highest average satisfaction level with more than 10 listings where each listing has at least had 1 review\n",
    "\n",
    "<i> The following are the steps I took:\n",
    "1. Loop through `host_id_satisfaction` to get all the `host_id` in a list `all_host_ids`\n",
    "2. Loop through `airbnb_data` to create the x and y axis, lat and lon respectively, of each neighborhood found in `all_host_ids`\n",
    "3. Append lat and lon into all_lat and all_lon accordingly\n",
    "4. Plot as a scatterplot\n",
    "</i>"
   ]
  },
  {
   "cell_type": "code",
   "execution_count": 38,
   "metadata": {
    "scrolled": false
   },
   "outputs": [
    {
     "data": {
      "text/plain": [
       "<matplotlib.collections.PathCollection at 0x115967cc0>"
      ]
     },
     "execution_count": 38,
     "metadata": {},
     "output_type": "execute_result"
    },
    {
     "data": {
      "image/png": "[encoded data removed]",
      "text/plain": [
       "<Figure size 432x288 with 1 Axes>"
      ]
     },
     "metadata": {},
     "output_type": "display_data"
    }
   ],
   "source": [
    "import matplotlib.pyplot as plt\n",
    "all_host_ids = []\n",
    "all_host_ids = [x[0] for x in host_id_satisfaction[:10]]\n",
    "\n",
    "all_lat = []\n",
    "all_lon = []\n",
    "\n",
    "for data in airbnb_data:\n",
    "    host_id = data['host_id']\n",
    "    lat = data['latitude']\n",
    "    lon = data['longitude']\n",
    "    \n",
    "    if host_id in all_host_ids:\n",
    "        all_lat.append(lat)\n",
    "        all_lon.append(lon)\n",
    "        \n",
    "\n",
    "plt.xlabel(\"Latitude\")\n",
    "plt.ylabel(\"Longitude\")\n",
    "plt.title(\"Top 10 host_id with the highest average satisfaction, with at least 10 listings and 1 review\")\n",
    "plt.scatter(all_lon,all_lat)"
   ]
  },
  {
   "cell_type": "markdown",
   "metadata": {},
   "source": [
    "## Satisfaction Map"
   ]
  },
  {
   "cell_type": "markdown",
   "metadata": {},
   "source": [
    "### To find out which region of Singapore has rooms that people are generally more satisfied with. \n",
    "\n",
    "To standardize:\n",
    "* Any room which has a rating `>4` would indicate a highly satisfactory room, and `>=2.5` would indicate an average room. \n",
    "* Any rating `<2.5` indicates an unsatisfactory room. "
   ]
  },
  {
   "cell_type": "code",
   "execution_count": 46,
   "metadata": {},
   "outputs": [
    {
     "data": {
      "image/png": "[encoded data removed]",
      "text/plain": [
       "<Figure size 432x288 with 2 Axes>"
      ]
     },
     "metadata": {},
     "output_type": "display_data"
    }
   ],
   "source": [
    "import matplotlib.pyplot as plt\n",
    "%matplotlib inline\n",
    "# Initialise lat, Lon, and satisfaction as empty lists\n",
    "lat = []\n",
    "lon = []\n",
    "satisfaction = []\n",
    "\n",
    "# Populate lat, lon and satisfaction lists\n",
    "for data in airbnb_data:\n",
    "    if data['reviews'] > 1:  \n",
    "        satisfaction.append(float(data[\"overall_satisfaction\"]))\n",
    "        lat.append(float(data[\"latitude\"]))\n",
    "        lon.append(float(data[\"longitude\"]))\n",
    "\n",
    "# To create the colour scheme based on satisfaction\n",
    "max_satisfaction = max(satisfaction)\n",
    "min_satisfaction = min(satisfaction)\n",
    "color_by = satisfaction\n",
    "\n",
    "# Add labels to the chart\n",
    "fig, ax = plt.subplots()\n",
    "\n",
    "plt.xlabel(\"Latitude\")\n",
    "plt.ylabel(\"Longitude\")\n",
    "plt.title(\"Overall satisfaction of AirBnB rooms, geographical representation\")\n",
    "\n",
    "# Plot the points on the graph, as a scatter plot, with visible different degrees of satisfaction\n",
    "s=plt.scatter(lon, # X-axis\n",
    "            lat, # Y-axis\n",
    "            c=color_by, # Color based on satisfaction\n",
    "            cmap = plt.cm.coolwarm, # I chose this color scheme to represent the degree of satisfaction\n",
    "            vmin=min_satisfaction, # Blue\n",
    "            vmax=max_satisfaction) # Red\n",
    "\n",
    "# To create the color scheme bar on the right (legend)\n",
    "cbar = plt.colorbar(mappable=s, ax=ax)\n",
    "cbar.set_label(\"Colour Scheme\")\n",
    "\n",
    "\n",
    "# Show the graph\n",
    "plt.show()"
   ]
  },
  {
   "cell_type": "markdown",
   "metadata": {},
   "source": [
    "### Conclusion\n",
    "<b> Overall insights I gleaned from this project:</b>\n",
    "\n",
    "In Singapore, \n",
    "* Most hosts have less than 30 listings.\n",
    "* There is a big difference between the most and second most expensive listing.\n",
    "* There is a big difference between the most and second most expensive neighborhood.\n",
    "* The top 10 most expensive neighborhoods are located in the Northern region\n",
    "* Close to none of the top 10 host_id <i>(with the highest average satisfaction and at least 10 listings and 1 review)</i> are located in the South-East region\n",
    "* Yet, the South-East region appears to have the greatest concentration of AirBnB rooms"
   ]
  }
 ],
 "metadata": {
  "kernelspec": {
   "display_name": "Python 3",
   "language": "python",
   "name": "python3"
  },
  "language_info": {
   "codemirror_mode": {
    "name": "ipython",
    "version": 3
   },
   "file_extension": ".py",
   "mimetype": "text/x-python",
   "name": "python",
   "nbconvert_exporter": "python",
   "pygments_lexer": "ipython3",
   "version": "3.6.5"
  }
 },
 "nbformat": 4,
 "nbformat_minor": 2
}
